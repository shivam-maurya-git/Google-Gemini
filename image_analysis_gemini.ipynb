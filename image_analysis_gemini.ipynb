{
 "cells": [
  {
   "cell_type": "markdown",
   "id": "6b3e0ef6",
   "metadata": {},
   "source": [
    "# Using Gemini With Python\n",
    "<p><b>Goal: Use Gemini Pro vision for anlysis of Images.</b></p>"
   ]
  },
  {
   "cell_type": "code",
   "execution_count": 1,
   "id": "4337f93d",
   "metadata": {},
   "outputs": [],
   "source": [
    "%%capture magic\n",
    "!pip install google-generativeai"
   ]
  },
  {
   "cell_type": "code",
   "execution_count": 18,
   "id": "65249328",
   "metadata": {},
   "outputs": [],
   "source": [
    "import google.generativeai as genai\n",
    "import PIL.Image\n",
    "from IPython.display import display"
   ]
  },
  {
   "cell_type": "code",
   "execution_count": 3,
   "id": "ebc424b5",
   "metadata": {},
   "outputs": [],
   "source": [
    "img = PIL.Image.open(\"ronaldo-portugal-reuters.jpg\")"
   ]
  },
  {
   "cell_type": "code",
   "execution_count": 4,
   "id": "5eb6dfd2",
   "metadata": {},
   "outputs": [],
   "source": [
    "genai.configure(api_key=\"API-KEY\")"
   ]
  },
  {
   "cell_type": "markdown",
   "id": "59337539",
   "metadata": {},
   "source": [
    "## Setting Model's parameters"
   ]
  },
  {
   "cell_type": "code",
   "execution_count": 5,
   "id": "14052366",
   "metadata": {},
   "outputs": [],
   "source": [
    "\n",
    "generation_config = {\n",
    "  \"temperature\": 0.9,\n",
    "  \"top_p\": 1,\n",
    "  \"top_k\": 1,\n",
    "  \"max_output_tokens\": 2048,\n",
    "}"
   ]
  },
  {
   "cell_type": "markdown",
   "id": "9e470a13",
   "metadata": {},
   "source": [
    "## Setting Model's Safety parameters"
   ]
  },
  {
   "cell_type": "code",
   "execution_count": 6,
   "id": "6b3e5a87",
   "metadata": {},
   "outputs": [],
   "source": [
    "safety_settings = [\n",
    "  {\n",
    "    \"category\": \"HARM_CATEGORY_HARASSMENT\",\n",
    "    \"threshold\": \"BLOCK_MEDIUM_AND_ABOVE\"\n",
    "  },\n",
    "  {\n",
    "    \"category\": \"HARM_CATEGORY_HATE_SPEECH\",\n",
    "    \"threshold\": \"BLOCK_MEDIUM_AND_ABOVE\"\n",
    "  },\n",
    "  {\n",
    "    \"category\": \"HARM_CATEGORY_SEXUALLY_EXPLICIT\",\n",
    "    \"threshold\": \"BLOCK_MEDIUM_AND_ABOVE\"\n",
    "  },\n",
    "  {\n",
    "    \"category\": \"HARM_CATEGORY_DANGEROUS_CONTENT\",\n",
    "    \"threshold\": \"BLOCK_MEDIUM_AND_ABOVE\"\n",
    "  },\n",
    "]"
   ]
  },
  {
   "cell_type": "markdown",
   "id": "8b741a74",
   "metadata": {},
   "source": [
    "## Preparing and Testing Model"
   ]
  },
  {
   "cell_type": "code",
   "execution_count": 7,
   "id": "bd2de394",
   "metadata": {},
   "outputs": [],
   "source": [
    "model = genai.GenerativeModel(model_name=\"gemini-pro-vision\",\n",
    "                              generation_config=generation_config,\n",
    "                              safety_settings=safety_settings)"
   ]
  },
  {
   "cell_type": "code",
   "execution_count": 14,
   "id": "b3cf9c76",
   "metadata": {},
   "outputs": [],
   "source": [
    "prompt_parts = [\"Analyze the Image and write observation(s) as, Characters:, Timeline:,Place:,Deatiled Description:\",img]\n"
   ]
  },
  {
   "cell_type": "markdown",
   "id": "937283a9",
   "metadata": {},
   "source": [
    "<p>By default, the model returns a response after completing the entire generation process. You can also stream the response as it is being generated, and the model will return chunks of the response as soon as they are generated.</p>"
   ]
  },
  {
   "cell_type": "code",
   "execution_count": 26,
   "id": "dc88624e",
   "metadata": {},
   "outputs": [
    {
     "name": "stdout",
     "output_type": "stream",
     "text": [
      "CPU times: total: 0 ns\n",
      "Wall time: 0 ns\n"
     ]
    }
   ],
   "source": [
    "#The result has the same type as the non streaming case,\n",
    "#but you can iterate over the response chunks as they become available:\n",
    "%time\n",
    "response = model.generate_content(prompt_parts)"
   ]
  },
  {
   "cell_type": "code",
   "execution_count": 27,
   "id": "181460b9",
   "metadata": {},
   "outputs": [
    {
     "name": "stdout",
     "output_type": "stream",
     "text": [
      " Characters: Cristiano Ronaldo, a Portuguese soccer player, and a Moroccan soccer player.\n",
      "Timeline: 2018 World Cup\n",
      "Place: Russia\n",
      "Detailed Description: Cristiano Ronaldo is wearing a white jersey with the number 7 on it. He is playing soccer against a Moroccan player. The Moroccan player is wearing a red jersey with the number 6 on it. The two players are running after the ball. Ronaldo is trying to get the ball past the Moroccan player. The Moroccan player is trying to stop Ronaldo from getting the ball.\n",
      "/n\n"
     ]
    }
   ],
   "source": [
    "for chunks in response:\n",
    "    print(chunks.text)\n",
    "    print(\"/n\")"
   ]
  },
  {
   "cell_type": "code",
   "execution_count": 28,
   "id": "b44a1551",
   "metadata": {},
   "outputs": [
    {
     "data": {
      "text/plain": [
       "[index: 0\n",
       "content {\n",
       "  parts {\n",
       "    text: \" Characters: Cristiano Ronaldo, a Portuguese soccer player, and a Moroccan soccer player.\\nTimeline: 2018 World Cup\\nPlace: Russia\\nDetailed Description: Cristiano Ronaldo is wearing a white jersey with the number 7 on it. He is playing soccer against a Moroccan player. The Moroccan player is wearing a red jersey with the number 6 on it. The two players are running after the ball. Ronaldo is trying to get the ball past the Moroccan player. The Moroccan player is trying to stop Ronaldo from getting the ball.\"\n",
       "  }\n",
       "  role: \"model\"\n",
       "}\n",
       "finish_reason: STOP\n",
       "safety_ratings {\n",
       "  category: HARM_CATEGORY_SEXUALLY_EXPLICIT\n",
       "  probability: NEGLIGIBLE\n",
       "}\n",
       "safety_ratings {\n",
       "  category: HARM_CATEGORY_HATE_SPEECH\n",
       "  probability: NEGLIGIBLE\n",
       "}\n",
       "safety_ratings {\n",
       "  category: HARM_CATEGORY_HARASSMENT\n",
       "  probability: NEGLIGIBLE\n",
       "}\n",
       "safety_ratings {\n",
       "  category: HARM_CATEGORY_DANGEROUS_CONTENT\n",
       "  probability: NEGLIGIBLE\n",
       "}\n",
       "]"
      ]
     },
     "execution_count": 28,
     "metadata": {},
     "output_type": "execute_result"
    }
   ],
   "source": [
    "#Gemini can generate multiple possible responses for a single prompt. \n",
    "# These possible responses are called candidates, and you can review them to select the most suitable one as the response.\n",
    "response.candidates"
   ]
  }
 ],
 "metadata": {
  "kernelspec": {
   "display_name": "Python 3 (ipykernel)",
   "language": "python",
   "name": "python3"
  },
  "language_info": {
   "codemirror_mode": {
    "name": "ipython",
    "version": 3
   },
   "file_extension": ".py",
   "mimetype": "text/x-python",
   "name": "python",
   "nbconvert_exporter": "python",
   "pygments_lexer": "ipython3",
   "version": "3.11.5"
  }
 },
 "nbformat": 4,
 "nbformat_minor": 5
}
