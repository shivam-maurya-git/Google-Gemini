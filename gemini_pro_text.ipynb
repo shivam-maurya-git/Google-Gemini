{
 "cells": [
  {
   "cell_type": "markdown",
   "id": "6b3e0ef6",
   "metadata": {},
   "source": [
    "# Using Gemini With Python\n",
    "<p><b>Goal: Make Gemini to validate answers using data.</b></p>"
   ]
  },
  {
   "cell_type": "code",
   "execution_count": 1,
   "id": "4337f93d",
   "metadata": {},
   "outputs": [],
   "source": [
    "%%capture magic\n",
    "!pip install google-generativeai"
   ]
  },
  {
   "cell_type": "code",
   "execution_count": 2,
   "id": "65249328",
   "metadata": {},
   "outputs": [],
   "source": [
    "import google.generativeai as genai"
   ]
  },
  {
   "cell_type": "code",
   "execution_count": 3,
   "id": "5eb6dfd2",
   "metadata": {},
   "outputs": [],
   "source": [
    "genai.configure(api_key=\"API-KEY\")"
   ]
  },
  {
   "cell_type": "markdown",
   "id": "59337539",
   "metadata": {},
   "source": [
    "## Setting Model's parameters"
   ]
  },
  {
   "cell_type": "code",
   "execution_count": 4,
   "id": "14052366",
   "metadata": {},
   "outputs": [],
   "source": [
    "\n",
    "generation_config = {\n",
    "  \"temperature\": 0.9,\n",
    "  \"top_p\": 1,\n",
    "  \"top_k\": 1,\n",
    "  \"max_output_tokens\": 2048,\n",
    "}"
   ]
  },
  {
   "cell_type": "markdown",
   "id": "9e470a13",
   "metadata": {},
   "source": [
    "## Setting Model's Safety parameters"
   ]
  },
  {
   "cell_type": "code",
   "execution_count": 5,
   "id": "6b3e5a87",
   "metadata": {},
   "outputs": [],
   "source": [
    "safety_settings = [\n",
    "  {\n",
    "    \"category\": \"HARM_CATEGORY_HARASSMENT\",\n",
    "    \"threshold\": \"BLOCK_MEDIUM_AND_ABOVE\"\n",
    "  },\n",
    "  {\n",
    "    \"category\": \"HARM_CATEGORY_HATE_SPEECH\",\n",
    "    \"threshold\": \"BLOCK_MEDIUM_AND_ABOVE\"\n",
    "  },\n",
    "  {\n",
    "    \"category\": \"HARM_CATEGORY_SEXUALLY_EXPLICIT\",\n",
    "    \"threshold\": \"BLOCK_MEDIUM_AND_ABOVE\"\n",
    "  },\n",
    "  {\n",
    "    \"category\": \"HARM_CATEGORY_DANGEROUS_CONTENT\",\n",
    "    \"threshold\": \"BLOCK_MEDIUM_AND_ABOVE\"\n",
    "  },\n",
    "]"
   ]
  },
  {
   "cell_type": "markdown",
   "id": "8b741a74",
   "metadata": {},
   "source": [
    "## Preparing and Testing Model"
   ]
  },
  {
   "cell_type": "code",
   "execution_count": 6,
   "id": "bd2de394",
   "metadata": {},
   "outputs": [],
   "source": [
    "model = genai.GenerativeModel(model_name=\"gemini-pro\",\n",
    "                              generation_config=generation_config,\n",
    "                              safety_settings=safety_settings)"
   ]
  },
  {
   "cell_type": "code",
   "execution_count": 7,
   "id": "b3cf9c76",
   "metadata": {},
   "outputs": [],
   "source": [
    "prompt_parts = [\n",
    "  \"You are an FactGemini. Whatever I will ask, you have to validate with citing some data.Why passive smokers more likely die than active smokers, because it does not seem obvious.\",\n",
    "]\n"
   ]
  },
  {
   "cell_type": "code",
   "execution_count": 10,
   "id": "dc88624e",
   "metadata": {},
   "outputs": [
    {
     "name": "stdout",
     "output_type": "stream",
     "text": [
      "The statement is incorrect, on average, active smokers are more likely to die than passive smokers.\n",
      "\n",
      "- According to the Centers for Disease Control and Prevention (CDC), smoking is the leading cause of preventable death in the United States, killing more than 480,000 people each year.\n",
      "\n",
      "\n",
      "- The CDC also reports that secondhand smoke exposure causes an estimated 41,000 deaths each year among nonsmokers.\n",
      "\n",
      "\n",
      "- The Surgeon General's 2014 report on the health consequences of smoking found that \"exposure to secondhand smoke increases the risk of stroke, heart disease, lung cancer, and chronic obstructive pulmonary disease (COPD).\"\n"
     ]
    }
   ],
   "source": [
    "response = model.generate_content(prompt_parts)\n",
    "print(response.text)"
   ]
  }
 ],
 "metadata": {
  "kernelspec": {
   "display_name": "Python 3 (ipykernel)",
   "language": "python",
   "name": "python3"
  },
  "language_info": {
   "codemirror_mode": {
    "name": "ipython",
    "version": 3
   },
   "file_extension": ".py",
   "mimetype": "text/x-python",
   "name": "python",
   "nbconvert_exporter": "python",
   "pygments_lexer": "ipython3",
   "version": "3.11.5"
  }
 },
 "nbformat": 4,
 "nbformat_minor": 5
}
